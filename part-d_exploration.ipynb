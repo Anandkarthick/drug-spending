{
 "cells": [
  {
   "cell_type": "code",
   "execution_count": 13,
   "metadata": {
    "collapsed": false
   },
   "outputs": [],
   "source": [
    "# Necessary libs\n",
    "import feather # import data from file\n",
    "import pandas as pd, numpy as np # data structures and analysis\n",
    "\n",
    "# Graphical plotting\n",
    "import matplotlib\n",
    "matplotlib.style.use('ggplot') # Pretty style\n",
    "import matplotlib.pyplot as plt # actual plotting module"
   ]
  },
  {
   "cell_type": "code",
   "execution_count": 2,
   "metadata": {
    "collapsed": true
   },
   "outputs": [],
   "source": [
    "# Load up drug names data\n",
    "df_drugnames = feather.read_dataframe('drugnames.feather')"
   ]
  },
  {
   "cell_type": "code",
   "execution_count": 5,
   "metadata": {
    "collapsed": false
   },
   "outputs": [],
   "source": [
    "# Load up spending data for each available year\n",
    "year_file_map = { year: 'spending-' + str(year) + '.feather' for year in range(2011, 2016) }\n",
    "df_years = { year: feather.read_dataframe(year_file_map[year]) for year in year_file_map }"
   ]
  },
  {
   "cell_type": "code",
   "execution_count": 9,
   "metadata": {
    "collapsed": true
   },
   "outputs": [],
   "source": [
    "# Add drug names as a multi-index\n",
    "idx = pd.MultiIndex.from_arrays(df_drugnames.iloc[:, [0,1]].values.T, names=df_drugnames.columns.values)\n",
    "for year in df_years:\n",
    "    df_years[year].index = idx"
   ]
  },
  {
   "cell_type": "code",
   "execution_count": 10,
   "metadata": {
    "collapsed": false
   },
   "outputs": [
    {
     "data": {
      "text/plain": [
       "<class 'pandas.core.panel.Panel'>\n",
       "Dimensions: 5 (items) x 4498 (major_axis) x 10 (minor_axis)\n",
       "Items axis: 2011 to 2015\n",
       "Major_axis axis: (10 WASH , SULFACETAMIDE SODIUM ) to (ZYVOX , LINEZOLID )\n",
       "Minor_axis axis: claim_count to out_of_pocket_avg_lowincome"
      ]
     },
     "execution_count": 10,
     "metadata": {},
     "output_type": "execute_result"
    }
   ],
   "source": [
    "# Create a Panel from all the individual year data\n",
    "drug_spending = pd.Panel(df_years)\n",
    "drug_spending"
   ]
  },
  {
   "cell_type": "code",
   "execution_count": 72,
   "metadata": {
    "collapsed": false
   },
   "outputs": [
    {
     "data": {
      "text/plain": [
       "drugname_brand           drugname_generic               \n",
       "LANTUS/LANTUS SOLOSTAR   INSULIN GLARGINE,HUM.REC.ANLOG     $ 14.2B\n",
       "NEXIUM                   ESOMEPRAZOLE MAGNESIUM             $ 11.3B\n",
       "CRESTOR                  ROSUVASTATIN CALCIUM               $ 10.8B\n",
       "ADVAIR DISKUS            FLUTICASONE/SALMETEROL             $ 10.4B\n",
       "ABILIFY                  ARIPIPRAZOLE                       $  9.4B\n",
       "SPIRIVA                  TIOTROPIUM BROMIDE                 $  9.2B\n",
       "HARVONI                  LEDIPASVIR/SOFOSBUVIR              $  7.7B\n",
       "JANUVIA                  SITAGLIPTIN PHOSPHATE              $  7.3B\n",
       "REVLIMID                 LENALIDOMIDE                       $  6.9B\n",
       "NAMENDA                  MEMANTINE HCL                      $  6.0B\n",
       "dtype: object"
      ]
     },
     "execution_count": 72,
     "metadata": {},
     "output_type": "execute_result"
    }
   ],
   "source": [
    "# Top 10 drugs by total cumulative dollars spent, 2011-2015, descending (in billions of dollars)\n",
    "(drug_spending.loc[:, :, 'total_spending'].sum().dropna().sort_values(ascending=False) / 1000000000) \\\n",
    "    .head(10) \\\n",
    "    .map(lambda x: '$ ' + ('%.1fB' % x).rjust(5, ' '))"
   ]
  },
  {
   "cell_type": "code",
   "execution_count": 73,
   "metadata": {
    "collapsed": false
   },
   "outputs": [
    {
     "data": {
      "text/plain": [
       "drugname_brand              drugname_generic          \n",
       "SIMVASTATIN                 SIMVASTATIN                   181.3M\n",
       "LISINOPRIL                  LISINOPRIL                    181.1M\n",
       "LEVOTHYROXINE SODIUM        LEVOTHYROXINE SODIUM          169.9M\n",
       "AMLODIPINE BESYLATE         AMLODIPINE BESYLATE           167.6M\n",
       "HYDROCODONE-ACETAMINOPHEN   HYDROCODONE/ACETAMINOPHEN     162.0M\n",
       "OMEPRAZOLE                  OMEPRAZOLE                    155.9M\n",
       "FUROSEMIDE                  FUROSEMIDE                    129.2M\n",
       "ATORVASTATIN CALCIUM        ATORVASTATIN CALCIUM          114.8M\n",
       "METFORMIN HCL               METFORMIN HCL                 109.0M\n",
       "METOPROLOL TARTRATE         METOPROLOL TARTRATE           102.1M\n",
       "dtype: object"
      ]
     },
     "execution_count": 73,
     "metadata": {},
     "output_type": "execute_result"
    }
   ],
   "source": [
    "# Top 10 drugs by total cumulative claims, 2011-2015, descending (in millions of claims)\n",
    "(drug_spending.loc[:, :, 'claim_count'].sum().dropna().sort_values(ascending=False) / 1000000) \\\n",
    "    .head(10) \\\n",
    "    .map(lambda x: '%.1fM' % x)"
   ]
  },
  {
   "cell_type": "code",
   "execution_count": 112,
   "metadata": {
    "collapsed": false
   },
   "outputs": [
    {
     "data": {
      "text/html": [
       "<div>\n",
       "<table border=\"1\" class=\"dataframe\">\n",
       "  <thead>\n",
       "    <tr style=\"text-align: right;\">\n",
       "      <th></th>\n",
       "      <th></th>\n",
       "      <th>claim_count</th>\n",
       "      <th>total_spending</th>\n",
       "    </tr>\n",
       "    <tr>\n",
       "      <th>drugname_brand</th>\n",
       "      <th>drugname_generic</th>\n",
       "      <th></th>\n",
       "      <th></th>\n",
       "    </tr>\n",
       "  </thead>\n",
       "  <tbody>\n",
       "    <tr>\n",
       "      <th>OMEPRAZOLE</th>\n",
       "      <th>OMEPRAZOLE</th>\n",
       "      <td>27360685.0</td>\n",
       "      <td>6.768475e+08</td>\n",
       "    </tr>\n",
       "    <tr>\n",
       "      <th>NEXIUM</th>\n",
       "      <th>ESOMEPRAZOLE MAGNESIUM</th>\n",
       "      <td>8224024.0</td>\n",
       "      <td>1.970138e+09</td>\n",
       "    </tr>\n",
       "    <tr>\n",
       "      <th>OMEPRAZOLE-SODIUM BICARBONATE</th>\n",
       "      <th>OMEPRAZOLE/SODIUM BICARBONATE</th>\n",
       "      <td>71956.0</td>\n",
       "      <td>1.547595e+07</td>\n",
       "    </tr>\n",
       "    <tr>\n",
       "      <th>VIMOVO</th>\n",
       "      <th>NAPROXEN/ESOMEPRAZOLE MAG</th>\n",
       "      <td>34216.0</td>\n",
       "      <td>3.201527e+06</td>\n",
       "    </tr>\n",
       "    <tr>\n",
       "      <th>ZEGERID</th>\n",
       "      <th>OMEPRAZOLE/SODIUM BICARBONATE</th>\n",
       "      <td>25275.0</td>\n",
       "      <td>7.420869e+06</td>\n",
       "    </tr>\n",
       "    <tr>\n",
       "      <th rowspan=\"2\" valign=\"top\">PRILOSEC</th>\n",
       "      <th>OMEPRAZOLE</th>\n",
       "      <td>10950.0</td>\n",
       "      <td>4.080108e+06</td>\n",
       "    </tr>\n",
       "    <tr>\n",
       "      <th>OMEPRAZOLE MAGNESIUM</th>\n",
       "      <td>2056.0</td>\n",
       "      <td>6.260247e+05</td>\n",
       "    </tr>\n",
       "    <tr>\n",
       "      <th>NEXIUM I.V.</th>\n",
       "      <th>ESOMEPRAZOLE SODIUM</th>\n",
       "      <td>704.0</td>\n",
       "      <td>2.164515e+05</td>\n",
       "    </tr>\n",
       "  </tbody>\n",
       "</table>\n",
       "</div>"
      ],
      "text/plain": [
       "                                                               claim_count  \\\n",
       "drugname_brand                 drugname_generic                              \n",
       "OMEPRAZOLE                     OMEPRAZOLE                       27360685.0   \n",
       "NEXIUM                         ESOMEPRAZOLE MAGNESIUM            8224024.0   \n",
       "OMEPRAZOLE-SODIUM BICARBONATE  OMEPRAZOLE/SODIUM BICARBONATE       71956.0   \n",
       "VIMOVO                         NAPROXEN/ESOMEPRAZOLE MAG           34216.0   \n",
       "ZEGERID                        OMEPRAZOLE/SODIUM BICARBONATE       25275.0   \n",
       "PRILOSEC                       OMEPRAZOLE                          10950.0   \n",
       "                               OMEPRAZOLE MAGNESIUM                 2056.0   \n",
       "NEXIUM I.V.                    ESOMEPRAZOLE SODIUM                   704.0   \n",
       "\n",
       "                                                               total_spending  \n",
       "drugname_brand                 drugname_generic                                \n",
       "OMEPRAZOLE                     OMEPRAZOLE                        6.768475e+08  \n",
       "NEXIUM                         ESOMEPRAZOLE MAGNESIUM            1.970138e+09  \n",
       "OMEPRAZOLE-SODIUM BICARBONATE  OMEPRAZOLE/SODIUM BICARBONATE     1.547595e+07  \n",
       "VIMOVO                         NAPROXEN/ESOMEPRAZOLE MAG         3.201527e+06  \n",
       "ZEGERID                        OMEPRAZOLE/SODIUM BICARBONATE     7.420869e+06  \n",
       "PRILOSEC                       OMEPRAZOLE                        4.080108e+06  \n",
       "                               OMEPRAZOLE MAGNESIUM              6.260247e+05  \n",
       "NEXIUM I.V.                    ESOMEPRAZOLE SODIUM               2.164515e+05  "
      ]
     },
     "execution_count": 112,
     "metadata": {},
     "output_type": "execute_result"
    }
   ],
   "source": [
    "all_omeprazoles = ['OMEPRAZOLE' in generic for (brand, generic) in drug_spending[2011].index.values]\n",
    "drug_spending[2011][all_omeprazoles][['claim_count', 'total_spending']].dropna().sort_values(by='claim_count', ascending=False)"
   ]
  },
  {
   "cell_type": "code",
   "execution_count": null,
   "metadata": {
    "collapsed": true
   },
   "outputs": [],
   "source": []
  }
 ],
 "metadata": {
  "kernelspec": {
   "display_name": "Python 3",
   "language": "python",
   "name": "python3"
  },
  "language_info": {
   "codemirror_mode": {
    "name": "ipython",
    "version": 3
   },
   "file_extension": ".py",
   "mimetype": "text/x-python",
   "name": "python",
   "nbconvert_exporter": "python",
   "pygments_lexer": "ipython3",
   "version": "3.5.2"
  }
 },
 "nbformat": 4,
 "nbformat_minor": 2
}
