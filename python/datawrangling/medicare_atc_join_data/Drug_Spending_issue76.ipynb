{
 "cells": [
  {
   "cell_type": "code",
   "execution_count": 5,
   "metadata": {},
   "outputs": [
    {
     "name": "stdout",
     "output_type": "stream",
     "text": [
      "\u001b[31matc_codes.csv\u001b[m\u001b[m                       \u001b[31mmethods.csv\u001b[m\u001b[m\r\n",
      "\u001b[31matc_codes_clean.csv\u001b[m\u001b[m                 \u001b[31mmethods_2.csv\u001b[m\u001b[m\r\n",
      "\u001b[31mcompanies_drugs_keyed.csv\u001b[m\u001b[m           \u001b[31mpharma_lobby.csv\u001b[m\u001b[m\r\n",
      "\u001b[31mdata.csv\u001b[m\u001b[m                            \u001b[31mspending_2011.csv\u001b[m\u001b[m\r\n",
      "\u001b[31mdata_2.csv\u001b[m\u001b[m                          \u001b[31mspending_2012.csv\u001b[m\u001b[m\r\n",
      "\u001b[31mdrug_list.csv\u001b[m\u001b[m                       \u001b[31mspending_2013.csv\u001b[m\u001b[m\r\n",
      "\u001b[31mdrug_uses.csv\u001b[m\u001b[m                       \u001b[31mspending_2014.csv\u001b[m\u001b[m\r\n",
      "\u001b[31mdrugdata_clean.csv\u001b[m\u001b[m                  \u001b[31mspending_2015.csv\u001b[m\u001b[m\r\n",
      "\u001b[31mdrugnames_withclasses.csv\u001b[m\u001b[m           \u001b[31mspending_all_top100.csv\u001b[m\u001b[m\r\n",
      "\u001b[31mfda_ndc_product.csv\u001b[m\u001b[m                 \u001b[31mspending_part_b_2011to2015_tidy.csv\u001b[m\u001b[m\r\n",
      "\u001b[31mlobbying_keyed.csv\u001b[m\u001b[m                  \u001b[31musp_drug_classification.csv\u001b[m\u001b[m\r\n",
      "\u001b[31mmanufacturers_drugs_cleaned.csv\u001b[m\u001b[m     \u001b[31mvariables.csv\u001b[m\u001b[m\r\n",
      "\u001b[31mmeps_full_2014.csv\u001b[m\u001b[m                  \u001b[31mvariables_2.csv\u001b[m\u001b[m\r\n"
     ]
    }
   ],
   "source": [
    "! ls data/"
   ]
  },
  {
   "cell_type": "code",
   "execution_count": 1,
   "metadata": {
    "collapsed": true
   },
   "outputs": [],
   "source": [
    "import pandas as pd"
   ]
  },
  {
   "cell_type": "markdown",
   "metadata": {},
   "source": [
    "### Concatenating all spending datasets into one data frame with 'year' and 'key'."
   ]
  },
  {
   "cell_type": "code",
   "execution_count": 71,
   "metadata": {},
   "outputs": [],
   "source": [
    "sp_2011 = pd.read_csv('data/spending_2011.csv')\n",
    "sp_2012 = pd.read_csv('data/spending_2012.csv')\n",
    "sp_2013 = pd.read_csv('data/spending_2013.csv')\n",
    "sp_2014 = pd.read_csv('data/spending_2014.csv')\n",
    "sp_2015 = pd.read_csv('data/spending_2015.csv')\n",
    "\n",
    "## Year for further filtering and data slicing. \n",
    "\n",
    "sp_2011['year']=2011\n",
    "sp_2012['year']=2012\n",
    "sp_2013['year']=2013\n",
    "sp_2014['year']=2014\n",
    "sp_2015['year']=2015\n",
    "\n",
    "## dummy primary key. I'm adding since we are merging all spending files into one. This will not affect the data.\n",
    "\n",
    "sp_2011['key']= 52011+sp_2011['column_a']\n",
    "sp_2012['key']= 62012+sp_2012['column_a']\n",
    "sp_2013['key']= 72013+sp_2013['column_a']\n",
    "sp_2014['key']= 82014+sp_2014['column_a']\n",
    "sp_2015['key']= 92015+sp_2015['column_a']\n",
    "\n",
    "## Merging all datframes into one.\n",
    "\n",
    "merge_spend_df = pd.concat([sp_2011,sp_2012, sp_2013, sp_2014, sp_2015], ignore_index=True)"
   ]
  },
  {
   "cell_type": "code",
   "execution_count": 72,
   "metadata": {},
   "outputs": [
    {
     "data": {
      "text/plain": [
       "(17302, 15)"
      ]
     },
     "execution_count": 72,
     "metadata": {},
     "output_type": "execute_result"
    }
   ],
   "source": [
    "merge_spend_df.shape\n",
    "\n",
    "## Notice the increase in fields. We added 'Year' and 'Key'."
   ]
  },
  {
   "cell_type": "code",
   "execution_count": 75,
   "metadata": {},
   "outputs": [
    {
     "data": {
      "text/plain": [
       "year\n",
       "2011    3583\n",
       "2012    3510\n",
       "2013    3460\n",
       "2014    3359\n",
       "2015    3390\n",
       "Name: column_a, dtype: int64"
      ]
     },
     "execution_count": 75,
     "metadata": {},
     "output_type": "execute_result"
    }
   ],
   "source": [
    "merge_spend_df.groupby(['year'])['column_a'].count()\n",
    "\n",
    "## Group by on merged data frame gives year wise breakdown. Sum of these equals 17302."
   ]
  },
  {
   "cell_type": "code",
   "execution_count": 76,
   "metadata": {},
   "outputs": [
    {
     "data": {
      "text/plain": [
       "2178"
      ]
     },
     "execution_count": 76,
     "metadata": {},
     "output_type": "execute_result"
    }
   ],
   "source": [
    "sp_drug_list = merge_spend_df['drugname_generic'].unique().tolist()\n",
    "len(sp_drug_list)\n",
    "\n",
    "## 2178 unique drug generic names in merged spending dataframe. "
   ]
  },
  {
   "cell_type": "markdown",
   "metadata": {},
   "source": [
    "### Creating data frame from drug uses dataset"
   ]
  },
  {
   "cell_type": "code",
   "execution_count": 94,
   "metadata": {
    "scrolled": true
   },
   "outputs": [
    {
     "data": {
      "text/plain": [
       "(6183, 9)"
      ]
     },
     "execution_count": 94,
     "metadata": {},
     "output_type": "execute_result"
    }
   ],
   "source": [
    "drug_use = pd.read_csv('data/drug_uses.csv')\n",
    "drug_use.shape"
   ]
  },
  {
   "cell_type": "code",
   "execution_count": 95,
   "metadata": {},
   "outputs": [
    {
     "data": {
      "text/plain": [
       "574"
      ]
     },
     "execution_count": 95,
     "metadata": {},
     "output_type": "execute_result"
    }
   ],
   "source": [
    "ds_drug_list = drug_use['drugname_generic'].unique().tolist()\n",
    "len(ds_drug_list)\n",
    "\n",
    "## 574 unique drug generic names"
   ]
  },
  {
   "cell_type": "markdown",
   "metadata": {},
   "source": [
    "### Now, let's join the merged spending data with drug data on \"drugname_generic\" field. This will combine fields from both datasets"
   ]
  },
  {
   "cell_type": "code",
   "execution_count": 106,
   "metadata": {},
   "outputs": [
    {
     "data": {
      "text/plain": [
       "(212977, 23)"
      ]
     },
     "execution_count": 106,
     "metadata": {},
     "output_type": "execute_result"
    }
   ],
   "source": [
    "merge_df = merge_spend_df.merge(drug_use, on='drugname_generic', how='inner')\n",
    "merge_df.shape\n",
    "\n",
    "## NOTICE - Increase in fields. Fields from drug data along with spending data."
   ]
  },
  {
   "cell_type": "code",
   "execution_count": 107,
   "metadata": {},
   "outputs": [
    {
     "data": {
      "text/plain": [
       "574"
      ]
     },
     "execution_count": 107,
     "metadata": {},
     "output_type": "execute_result"
    }
   ],
   "source": [
    "len(merge_df['drugname_generic'].unique().tolist())\n",
    "\n",
    "## 574 Matching drug names. Out of 2178 distinct generic drug names from merged spending dataframe.\n",
    "## Remember, 574 matches are distributed across various years from 2011 to 2015."
   ]
  },
  {
   "cell_type": "markdown",
   "metadata": {},
   "source": [
    "## Using \"set\", quickly validating the above step. "
   ]
  },
  {
   "cell_type": "code",
   "execution_count": 97,
   "metadata": {
    "collapsed": true
   },
   "outputs": [],
   "source": [
    "sp_drug_list = merge_spend_df['drugname_generic'].unique().tolist() #generic drug name from merged spending dataframe. \n",
    "ds_drug_list = drug_use['drugname_generic'].unique().tolist() ## generic drug name from drug_uses.csv"
   ]
  },
  {
   "cell_type": "code",
   "execution_count": 98,
   "metadata": {
    "collapsed": true
   },
   "outputs": [],
   "source": [
    "## Validating the drug match between merged spending dataframe and drug_use dataframe\n",
    "\n",
    "a = set(ds_drug_list) \n",
    "b = set(sp_drug_list) "
   ]
  },
  {
   "cell_type": "code",
   "execution_count": 99,
   "metadata": {},
   "outputs": [
    {
     "data": {
      "text/plain": [
       "574"
      ]
     },
     "execution_count": 99,
     "metadata": {},
     "output_type": "execute_result"
    }
   ],
   "source": [
    "result_set = list(a.intersection(b))\n",
    "len(result_set)\n",
    "\n",
    "## number matches with distinct drug generic names from merged data frame above. "
   ]
  },
  {
   "cell_type": "markdown",
   "metadata": {},
   "source": [
    "### Validation and summary numbers for quick understanding"
   ]
  },
  {
   "cell_type": "code",
   "execution_count": 100,
   "metadata": {
    "scrolled": true
   },
   "outputs": [
    {
     "data": {
      "text/html": [
       "<div>\n",
       "<style>\n",
       "    .dataframe thead tr:only-child th {\n",
       "        text-align: right;\n",
       "    }\n",
       "\n",
       "    .dataframe thead th {\n",
       "        text-align: left;\n",
       "    }\n",
       "\n",
       "    .dataframe tbody tr th {\n",
       "        vertical-align: top;\n",
       "    }\n",
       "</style>\n",
       "<table border=\"1\" class=\"dataframe\">\n",
       "  <thead>\n",
       "    <tr style=\"text-align: right;\">\n",
       "      <th></th>\n",
       "      <th>distinct_total</th>\n",
       "      <th>distinct_match</th>\n",
       "      <th>no_match</th>\n",
       "    </tr>\n",
       "    <tr>\n",
       "      <th>year</th>\n",
       "      <th></th>\n",
       "      <th></th>\n",
       "      <th></th>\n",
       "    </tr>\n",
       "  </thead>\n",
       "  <tbody>\n",
       "    <tr>\n",
       "      <th>2011</th>\n",
       "      <td>3583</td>\n",
       "      <td>945</td>\n",
       "      <td>2638</td>\n",
       "    </tr>\n",
       "    <tr>\n",
       "      <th>2012</th>\n",
       "      <td>3510</td>\n",
       "      <td>951</td>\n",
       "      <td>2559</td>\n",
       "    </tr>\n",
       "    <tr>\n",
       "      <th>2013</th>\n",
       "      <td>3460</td>\n",
       "      <td>972</td>\n",
       "      <td>2488</td>\n",
       "    </tr>\n",
       "    <tr>\n",
       "      <th>2014</th>\n",
       "      <td>3359</td>\n",
       "      <td>992</td>\n",
       "      <td>2367</td>\n",
       "    </tr>\n",
       "    <tr>\n",
       "      <th>2015</th>\n",
       "      <td>3390</td>\n",
       "      <td>1009</td>\n",
       "      <td>2381</td>\n",
       "    </tr>\n",
       "  </tbody>\n",
       "</table>\n",
       "</div>"
      ],
      "text/plain": [
       "      distinct_total  distinct_match  no_match\n",
       "year                                          \n",
       "2011            3583             945      2638\n",
       "2012            3510             951      2559\n",
       "2013            3460             972      2488\n",
       "2014            3359             992      2367\n",
       "2015            3390            1009      2381"
      ]
     },
     "execution_count": 100,
     "metadata": {},
     "output_type": "execute_result"
    }
   ],
   "source": [
    "# We have 3 things \n",
    "## a) merge_spend_df - merged dataframe containing spending data from 2011 to 2015\n",
    "## b) drug_use - drug dataframe containing generic drug names\n",
    "## c) merge_df - Merged(inner joined) dataframe created from a & b on key \"drugname_generic\". \n",
    "\n",
    "metric_df = pd.DataFrame()\n",
    "metric_df['distinct_total'] = merge_spend_df.groupby(['year'])['column_a'].count() # distinct rows from spending data\n",
    "metric_df['distinct_match']= merge_df.groupby(['year'])['key'].nunique() # distinct match(drug data) from spending data\n",
    "metric_df['no_match'] = metric_df['distinct_total'] - metric_df['distinct_match'] #calculated difference. \n",
    "metric_df.head()"
   ]
  },
  {
   "cell_type": "code",
   "execution_count": 103,
   "metadata": {},
   "outputs": [
    {
     "data": {
      "text/plain": [
       "year\n",
       "2011    2638\n",
       "2012    2559\n",
       "2013    2488\n",
       "2014    2367\n",
       "2015    2381\n",
       "Name: key, dtype: int64"
      ]
     },
     "execution_count": 103,
     "metadata": {},
     "output_type": "execute_result"
    }
   ],
   "source": [
    "## Let's filter out unmatched spending data and calculate numbers. \n",
    "## Expectation -> it should match with no_match from above\n",
    "\n",
    "# Creating filter to extract 'key' as list from merged spending data.\n",
    "\n",
    "drug_column_id = merge_df['key'].unique().tolist()\n",
    "drug_unmatched_filter = merge_spend_df['key'].isin(drug_column_id)\n",
    "\n",
    "# applying INVERSE filter to get un matched spending data.\n",
    "\n",
    "drug_unmatched_df = merge_spend_df[~drug_unmatched_filter]\n",
    "drug_unmatched_df.groupby(['year'])['key'].nunique()\n",
    "\n",
    "## NOTE - the numbers are matching with \"no_match\" calculated data. "
   ]
  },
  {
   "cell_type": "code",
   "execution_count": 104,
   "metadata": {},
   "outputs": [
    {
     "data": {
      "text/plain": [
       "(12433, 15)"
      ]
     },
     "execution_count": 104,
     "metadata": {},
     "output_type": "execute_result"
    }
   ],
   "source": [
    "drug_unmatched_df.shape"
   ]
  },
  {
   "cell_type": "markdown",
   "metadata": {},
   "source": [
    "### Writing data into CSV.. "
   ]
  },
  {
   "cell_type": "code",
   "execution_count": 105,
   "metadata": {
    "collapsed": true
   },
   "outputs": [],
   "source": [
    "merge_spend_df.to_csv('data/spending_data_merged.csv') # merged spending data from 2011 to 2015\n",
    "merge_df.to_csv('data/spending_data_match.csv') # matched (drug data - generic drug name) spending data\n",
    "drug_unmatched_df.to_csv('data/spending_data_unmatched.csv') #unmatched spending data"
   ]
  },
  {
   "cell_type": "code",
   "execution_count": null,
   "metadata": {
    "collapsed": true
   },
   "outputs": [],
   "source": []
  }
 ],
 "metadata": {
  "kernelspec": {
   "display_name": "Python 3",
   "language": "python",
   "name": "python3"
  },
  "language_info": {
   "codemirror_mode": {
    "name": "ipython",
    "version": 3
   },
   "file_extension": ".py",
   "mimetype": "text/x-python",
   "name": "python",
   "nbconvert_exporter": "python",
   "pygments_lexer": "ipython3",
   "version": "3.6.3"
  }
 },
 "nbformat": 4,
 "nbformat_minor": 2
}
